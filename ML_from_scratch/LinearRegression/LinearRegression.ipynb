{
 "cells": [
  {
   "cell_type": "code",
   "execution_count": 1,
   "metadata": {},
   "outputs": [],
   "source": [
    "import torch"
   ]
  },
  {
   "cell_type": "code",
   "execution_count": 39,
   "metadata": {},
   "outputs": [],
   "source": [
    "class LinearRegresion:\n",
    "    def __init__(self, lr=1e-3, iterations=1000):\n",
    "        self.lr = lr\n",
    "        self.iterations = iterations\n",
    "\n",
    "    def y_pred(self, X, w):\n",
    "        return torch.mm(torch.transpose(w, 0, 1), X)  # y_hat = w^T * X\n",
    "\n",
    "    def loss(self, y_pred, y):\n",
    "        l = (1 / self.m) * torch.sum(torch.pow(y - y_pred, 2))\n",
    "        return l\n",
    "\n",
    "    def gradient_descent(self, X, y, w, y_pred):\n",
    "        dCdW = (2 / self.m) * torch.mm(X, torch.transpose(y_pred - y, 0, 1))\n",
    "        w_update = w - self.lr * dCdW\n",
    "        return w_update\n",
    "\n",
    "    def run(self, X, y):\n",
    "        bias = torch.ones((1, X.shape[1]))\n",
    "        X = torch.cat((bias, X), dim=0)\n",
    "\n",
    "        self.m = X.shape[1]  # number of samples\n",
    "        self.n = X.shape[0]  # number of features\n",
    "\n",
    "        w = torch.zeros((self.n, 1))\n",
    "\n",
    "        for i in range(1, self.iterations + 1):\n",
    "            y_pred = self.y_pred(X, w)\n",
    "            cost = self.loss(y_pred, y)\n",
    "\n",
    "            if i % 100 == 0:\n",
    "                print(f\"Loss at iteration {i}: {cost.item():.6f}\")\n",
    "\n",
    "            w = self.gradient_descent(X, y, w, y_pred)\n",
    "\n",
    "        return w\n",
    "    "
   ]
  },
  {
   "cell_type": "code",
   "execution_count": 40,
   "metadata": {},
   "outputs": [
    {
     "name": "stdout",
     "output_type": "stream",
     "text": [
      "Loss at iteration 100: 9.904048\n",
      "Loss at iteration 200: 5.958103\n",
      "Loss at iteration 300: 3.587146\n",
      "Loss at iteration 400: 2.162505\n",
      "Loss at iteration 500: 1.306452\n",
      "Loss at iteration 600: 0.792030\n",
      "Loss at iteration 700: 0.482874\n",
      "Loss at iteration 800: 0.297054\n",
      "Loss at iteration 900: 0.185338\n",
      "Loss at iteration 1000: 0.118150\n"
     ]
    }
   ],
   "source": [
    "X = torch.rand(1, 500)\n",
    "y = 2*X + 3 + torch.randn(1, 500) * 0.1 # bias with normal distribution\n",
    "model = LinearRegresion(lr=1e-3, iterations=1000)\n",
    "w = model.run(X, y)"
   ]
  }
 ],
 "metadata": {
  "kernelspec": {
   "display_name": "py310",
   "language": "python",
   "name": "python3"
  },
  "language_info": {
   "codemirror_mode": {
    "name": "ipython",
    "version": 3
   },
   "file_extension": ".py",
   "mimetype": "text/x-python",
   "name": "python",
   "nbconvert_exporter": "python",
   "pygments_lexer": "ipython3",
   "version": "3.10.15"
  }
 },
 "nbformat": 4,
 "nbformat_minor": 2
}
