{
 "cells": [
  {
   "cell_type": "code",
   "execution_count": 13,
   "metadata": {},
   "outputs": [],
   "source": [
    "import torch\n",
    "from scipy.stats import mode\n",
    "from sklearn.datasets import load_iris\n",
    "from sklearn.model_selection import train_test_split\n",
    "from sklearn.metrics import accuracy_score"
   ]
  },
  {
   "cell_type": "code",
   "execution_count": 32,
   "metadata": {},
   "outputs": [],
   "source": [
    "class KNN:\n",
    "    def __init__(self, k):\n",
    "        \"\"\"\n",
    "        k: number of neighbors\n",
    "        \"\"\"\n",
    "        self.k = k\n",
    "    \n",
    "    def distance(self, point1, point2, meansure='euclidean', p=2):\n",
    "        if meansure == 'euclidean':\n",
    "            return torch.norm(point1 - point2, 2, 0)\n",
    "        elif meansure == 'manhattan':\n",
    "            return torch.norm(torch.abs(point1 - point2))\n",
    "        elif meansure == 'minkowski':\n",
    "            return torch.norm(torch.sum(torch.abs(point1 - point2)**p), 1/p)\n",
    "        else:\n",
    "            raise ValueError(\"Unknown similarity distance type\")\n",
    "\n",
    "    def fit_predict(self, X, y, item):\n",
    "        \"\"\"\n",
    "        - Iterate through each datapoints (item/y_test) that needs to be classified\n",
    "        - Find distance between all train data points and each datapoint (item/y_test)\n",
    "            using D distance with D in [euclidean, manhattan, minkowski]\n",
    "        - Sort the distance using argsort, it gives indices of the y_test\n",
    "        - Find the majority label whose distance closest to each datapoint of y_test.\n",
    "\n",
    "        X: input tensor\n",
    "        y: ground truth label\n",
    "        item: tensors to be classified\n",
    "\n",
    "        return: predicted labels\n",
    "        \"\"\"\n",
    "        y_pred = []\n",
    "        for i in item:\n",
    "            point_distances = []\n",
    "            for ipt in range(X.shape[0]):\n",
    "                distances = self.distance(X[ipt,:], i) # computing all distances between the test data point and all training data points\n",
    "                point_distances.append(distances)\n",
    "\n",
    "            point_distances = torch.tensor(point_distances)\n",
    "            k_neighbors = torch.argsort(point_distances)[:self.k] # sort ascending and return indices of k neighbors\n",
    "            y_label = y[k_neighbors]\n",
    "            major_class = torch.mode(y_label).values\n",
    "            y_pred.append(major_class)\n",
    "\n",
    "        return torch.tensor(y_pred)\n",
    "            "
   ]
  },
  {
   "cell_type": "code",
   "execution_count": null,
   "metadata": {},
   "outputs": [
    {
     "name": "stdout",
     "output_type": "stream",
     "text": [
      "Accuracy score: 0.9667\n"
     ]
    }
   ],
   "source": [
    "iris = load_iris()\n",
    "X = torch.tensor(iris.data)\n",
    "y = torch.tensor(iris.target)\n",
    "\n",
    "torch.manual_seed(42)\n",
    "X_train, X_test, y_train, y_test = train_test_split(X, y, test_size=0.2)\n",
    "model = KNN(k = 3)\n",
    "y_pred = model.fit_predict(X_train, y_train, X_test)\n",
    "print(\"Accuracy score: {:.4f}\".format(accuracy_score(y_test, y_pred)))\n"
   ]
  }
 ],
 "metadata": {
  "kernelspec": {
   "display_name": "py310",
   "language": "python",
   "name": "python3"
  },
  "language_info": {
   "codemirror_mode": {
    "name": "ipython",
    "version": 3
   },
   "file_extension": ".py",
   "mimetype": "text/x-python",
   "name": "python",
   "nbconvert_exporter": "python",
   "pygments_lexer": "ipython3",
   "version": "3.10.15"
  }
 },
 "nbformat": 4,
 "nbformat_minor": 2
}
