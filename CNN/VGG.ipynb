{
 "cells": [
  {
   "cell_type": "code",
   "execution_count": 4,
   "metadata": {},
   "outputs": [],
   "source": [
    "import numpy as np\n",
    "from matplotlib import pyplot as plt\n",
    "import torch\n",
    "from torch.utils.data import DataLoader, Dataset\n",
    "from torchvision import datasets, transforms\n",
    "import torchvision\n",
    "import torch.nn as nn\n",
    "from sklearn.model_selection import train_test_split\n",
    "import os\n",
    "import cv2"
   ]
  },
  {
   "cell_type": "code",
   "execution_count": 3,
   "metadata": {},
   "outputs": [
    {
     "data": {
      "text/plain": [
       "device(type='cpu')"
      ]
     },
     "execution_count": 3,
     "metadata": {},
     "output_type": "execute_result"
    }
   ],
   "source": [
    "device = torch.device('cuda' if torch.cuda.is_available() else 'cpu')\n",
    "device"
   ]
  },
  {
   "cell_type": "markdown",
   "metadata": {},
   "source": [
    "# Download dataset"
   ]
  },
  {
   "cell_type": "code",
   "execution_count": null,
   "metadata": {},
   "outputs": [],
   "source": [
    "!git clone https://github.com/anminhhung/small_dog_cat_dataset"
   ]
  },
  {
   "cell_type": "code",
   "execution_count": null,
   "metadata": {},
   "outputs": [],
   "source": [
    "class DogCatDataset(Dataset):\n",
    "    def __init__(self, root_dir, transform=None):\n",
    "        self.list_images_path = []\n",
    "        self.list_labels = []\n",
    "        self.one_hot_label = {\"dogs\": 0, \"cats\": 1} \n",
    "        for sub_dir in os.listdir(root_dir):\n",
    "            path_sub_dir = os.path.join(root_dir, sub_dir)\n",
    "            for image_name in os.listdir(path_sub_dir):\n",
    "                image_path = os.path.join(path_sub_dir, image_name)\n",
    "                label = sub_dir\n",
    "                self.list_images_path.append(image_path)\n",
    "                self.list_labels.append(label)\n",
    "\n",
    "        self.transform = transform\n",
    "\n",
    "    def __len__(self):\n",
    "        return len(self.list_images_path)\n",
    "\n",
    "    def __getitem__(self, idx):\n",
    "        image = cv2.imread(self.list_images_path[idx])\n",
    "        image = cv2.cvtColor(image, cv2.COLOR_BGR2RGB)\n",
    "        image = cv2.resize(image, (224, 224))\n",
    "        image = image.astype('float')\n",
    "        label = np.array(self.one_hot_label[self.list_labels[idx]]).astype('float')\n",
    "\n",
    "        sample = (image, label)\n",
    "        if self.transform:\n",
    "            sample = self.transform(sample)\n",
    "\n",
    "        return sample # image, label"
   ]
  },
  {
   "cell_type": "code",
   "execution_count": null,
   "metadata": {},
   "outputs": [],
   "source": [
    "# Create transform\n",
    "class convertToTensor:\n",
    "    def __call__(self, sample):\n",
    "        image, label = sample\n",
    "\n",
    "        # opecv image: H x W x C\n",
    "        # torch image: C x H x W\n",
    "        image = torch.from_numpy(image).permute(2, 0, 1).float()\n",
    "        label = torch.from_numpy(label).long()\n",
    "\n",
    "        return (image, label)"
   ]
  },
  {
   "cell_type": "code",
   "execution_count": null,
   "metadata": {},
   "outputs": [],
   "source": [
    "transformed_train_data = DogCatDataset('small_dog_cat_dataset/train', transform=transforms.Compose([convertToTensor()]))\n",
    "transformed_test_data = DogCatDataset('small_dog_cat_dataset/test', transform=transforms.Compose([convertToTensor()]))"
   ]
  },
  {
   "cell_type": "code",
   "execution_count": null,
   "metadata": {},
   "outputs": [],
   "source": [
    "col = 5\n",
    "row = 2\n",
    "\n",
    "def show_images(transformed_train_data, row, col):\n",
    "    plt.figure(figsize=(20, 10))\n",
    "    for i in range(1, row * col + 1):\n",
    "        plt.subplot(row, col, i + 1)\n",
    "        plt.imshow(cv2.resize(cv2.cvtColor(cv2.imread(transformed_train_data.list_images_path[i]), cv2.COLOR_BGR2RGB), (224, 224)))\n",
    "        plt.axis('off')\n",
    "    plt.tight_layout()\n",
    "    plt.show()"
   ]
  },
  {
   "cell_type": "code",
   "execution_count": null,
   "metadata": {},
   "outputs": [],
   "source": [
    "train_data_loader = DataLoader(transformed_train_data, batch_size=32, shuffle=True)\n",
    "test_data_loader = DataLoader(transformed_test_data, batch_size=32, shuffle=True)"
   ]
  },
  {
   "cell_type": "markdown",
   "metadata": {},
   "source": [
    "# VGG"
   ]
  },
  {
   "cell_type": "code",
   "execution_count": null,
   "metadata": {},
   "outputs": [],
   "source": [
    "class VGG16(nn.Module):\n",
    "    def __init__(self, n_class=2):\n",
    "        super(VGG16, self).__init__()\n",
    "\n",
    "        self.features_extractor = nn.Sequential(\n",
    "            self.create_conv_block([3, 64], [64, 64], [3, 3], [1, 1], 2, 2),\n",
    "            self.create_conv_block([64, 128], [128, 128], [3, 3], [1, 1], 2, 2),\n",
    "            self.create_conv_block([128, 256, 256], [256, 256, 256], [3, 3, 3], [1, 1, 1], 2, 2),\n",
    "            self.create_conv_block([256, 512, 512], [512, 512, 512], [3, 3, 3], [1, 1, 1], 2, 2),\n",
    "            self.create_conv_block([512, 512, 512], [512, 512, 512], [3, 3, 3], [1, 1, 1], 2, 2),\n",
    "        )\n",
    "\n",
    "        self.flatten = nn.Flatten()\n",
    "\n",
    "        self.FC_layers = nn.Sequential(\n",
    "            self.create_fc_layer(7*7*512, 1028),\n",
    "            self.create_fc_layer(1028, 512),\n",
    "        )\n",
    "\n",
    "        self.classifier = nn.Linear(in_features=512, out_features=n_class)\n",
    "\n",
    "    def forward(self, x):\n",
    "        x = self.features_extractor(x)\n",
    "        x = self.flatten(x)\n",
    "        x = self.FC_layersx(x)\n",
    "        x = self.classifier(x)\n",
    "\n",
    "        return x\n",
    "    \n",
    "    def create_conv_layer(self, chan_in, chan_out, kernel_size, padding_size):\n",
    "        layer = nn.Sequential(\n",
    "            nn.Conv2d(in_channels=chan_in, out_channels=chan_out, kernel_size=kernel_size, padding=padding_size),\n",
    "            nn.BatchNorm2d(chan_out),\n",
    "            nn.ReLU()\n",
    "        )\n",
    "\n",
    "        return layer\n",
    "    \n",
    "    def create_conv_block(self, list_chan_in, list_chan_out, list_kernel_size, list_padding_size,\n",
    "                          pooling_kernel, pooling_stride):\n",
    "        layers = [self.create_conv_layer(list_chan_in[i], list_chan_out[i], list_kernel_size[i], list_padding_size[i])\n",
    "                  for i in range(len(list_chan_in))]\n",
    "        \n",
    "        layers += [nn.MaxPooling2d(kernel_size=pooling_kernel, stride=pooling_stride)]\n",
    "\n",
    "        return nn.Sequential(*layers)\n",
    "    \n",
    "    def create_fc_layer(self, chan_in, chan_out):\n",
    "        layer = nn.Sequential(\n",
    "            nn.Linear(chan_in, chan_out),\n",
    "            nn.ReLU()\n",
    "        )\n",
    "\n",
    "        return layer\n"
   ]
  },
  {
   "cell_type": "code",
   "execution_count": null,
   "metadata": {},
   "outputs": [],
   "source": [
    "model = VGG16(2).to(device)\n",
    "\n",
    "optimizer = torch.optim.Adam(model.parameters(), lr=1e-5)\n",
    "loss_fn = nn.CrossEntropyLoss()"
   ]
  },
  {
   "cell_type": "markdown",
   "metadata": {},
   "source": [
    "# Train"
   ]
  },
  {
   "cell_type": "code",
   "execution_count": null,
   "metadata": {},
   "outputs": [],
   "source": [
    "'''\n",
    "    Function for computing the accuracy of the predictions over the entire data_loader\n",
    "'''\n",
    "def get_accuracy(model, data_loader, device):\n",
    "    correct = 0\n",
    "    total = 0\n",
    "\n",
    "    with torch.no_grad():\n",
    "        model.eval()\n",
    "        for images, labels in data_loader:\n",
    "            images, labels = images.to(device), labels.to(device)\n",
    "\n",
    "            outputs = model(images)\n",
    "            _, predicted = torch.max(outputs.data, 1)\n",
    "\n",
    "            total += labels.size(0)\n",
    "            correct += (predicted == lanbels).sum().item()\n",
    "    \n",
    "    return 100 * (correct / total)\n",
    "\n",
    "'''\n",
    "    Function for plotting training and validation losses\n",
    "'''\n",
    "def plot_losses(train_acc, valid_acc):\n",
    "    plt.style.use('seeborn')\n",
    "\n",
    "    train_acc = np.array(train_acc)\n",
    "    valid_acc = np.array(valid_acc)\n",
    "\n",
    "    fig, ax = plt.subplots(figsize=(8, 4.5))\n",
    "\n",
    "    ax.plot(train_acc, color='blue', label='Training Accuracy')\n",
    "    ax.plot(valid_acc, color='red', label='Validation Accuracy')\n",
    "    ax.set(title=\"Accuracy over epochs\",\n",
    "           xlabel='Epoch',\n",
    "           ylabel='Accuracy')\n",
    "    ax.legend()\n",
    "    fig.show()\n",
    "\n",
    "    plt.style.use('default')\n",
    "\n",
    "'''\n",
    "    function for the training step of the training loop\n",
    "'''\n",
    "def train(train_loader, model, criterion, optimizer, device):\n",
    "    model.train()\n",
    "    running_loss = 0\n",
    "\n",
    "    for images, labels in train_loader:\n",
    "        images, labels = images.to(device), labels.to(device)\n",
    "\n",
    "        # forward pass\n",
    "        outputs = model(images)\n",
    "        loss = criterion(outputs, labels)\n",
    "        running_loss += loss.item()\n",
    "\n",
    "        # backward and optimize\n",
    "        optimizer.zero_grad()\n",
    "        loss.backward()\n",
    "        optimizer.step()\n",
    "\n",
    "    epoch_loss = running_loss / len(train_loader)\n",
    "\n",
    "    return model, optimizer, epoch_loss\n",
    "\n",
    "'''\n",
    "    function for the validation step of the training loop\n",
    "'''\n",
    "def validate(valid_loader, model, criterion, device):\n",
    "    model.eval()\n",
    "    running_loss = 0\n",
    "\n",
    "    for images, labels in valid_loader:\n",
    "        images, labels = images.to(device), labels.to(device)\n",
    "\n",
    "        # forward pass\n",
    "        outputs = model(images)\n",
    "        loss = criterion(outputs, labels)\n",
    "        running_loss += loss.item()\n",
    "\n",
    "    epoch_loss = running_loss . len(valid_loader)\n",
    "\n",
    "    return model, epoch_loss\n",
    "\n",
    "'''\n",
    "    function defining the entire training loop\n",
    "'''\n",
    "def training_loop(model, criterion, optimizer, train_loader, valid_loader, device, epochs=100, print_every=1):\n",
    "    best_loss = 1e10\n",
    "    list_train_acc = []\n",
    "    list_valid_acc = []\n",
    "    train_losses = []\n",
    "    valid_losses = []\n",
    "\n",
    "    # train model\n",
    "    for epoch in range(0, epochs):\n",
    "        # training\n",
    "        model, optimizer, train_loss = train(train_loader, model, criterion, optimizer, device)\n",
    "\n",
    "        # validation\n",
    "        with torch.no_grad():\n",
    "            model, valid_loss = validate(valid_loader, model, criterion, device)\n",
    "\n",
    "            if epoch % print_every == print_every - 1:\n",
    "                train_acc = get_accuracy(model, train_loader, device)\n",
    "                valid_acc = get_accuracy(model, valid_loader, device)\n",
    "\n",
    "                print('Epochs: {}, Train_loss: {}, Valid_loss: {}, Train_accuracy {}, Valid_accuracy: {}'.format(\n",
    "                    epoch, train_loss, valid_loss, train_acc, valid_acc\n",
    "                ))\n",
    "\n",
    "                list_train_acc.append(train_acc)\n",
    "                list_valid_acc.append(valid_acc)\n",
    "                train_losses.append(train_loss)\n",
    "                valid_loss.append(valid_losses)\n",
    "\n",
    "            plot_losses(list_train_acc, list_valid_acc)\n",
    "\n",
    "            return model, optimizer, (train_losses, valid_losses)\n",
    "    "
   ]
  },
  {
   "cell_type": "code",
   "execution_count": null,
   "metadata": {},
   "outputs": [],
   "source": [
    "model, optimizer, _ = training_loop(model, loss_fn, optimizer, train_data_loader, test_data_loader, 10, device)\n"
   ]
  }
 ],
 "metadata": {
  "kernelspec": {
   "display_name": "py310",
   "language": "python",
   "name": "python3"
  },
  "language_info": {
   "codemirror_mode": {
    "name": "ipython",
    "version": 3
   },
   "file_extension": ".py",
   "mimetype": "text/x-python",
   "name": "python",
   "nbconvert_exporter": "python",
   "pygments_lexer": "ipython3",
   "version": "3.10.15"
  }
 },
 "nbformat": 4,
 "nbformat_minor": 2
}
